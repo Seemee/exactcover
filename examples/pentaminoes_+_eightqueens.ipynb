{
  "nbformat": 4,
  "nbformat_minor": 0,
  "metadata": {
    "colab": {
      "name": "pentaminoes + eightqueens.ipynb",
      "provenance": [],
      "collapsed_sections": []
    },
    "kernelspec": {
      "name": "python3",
      "display_name": "Python 3"
    }
  },
  "cells": [
    {
      "cell_type": "markdown",
      "metadata": {
        "id": "4WU0Hx_rw_nS",
        "colab_type": "text"
      },
      "source": [
        "Install exactcover from github\n"
      ]
    },
    {
      "cell_type": "code",
      "metadata": {
        "id": "t9tRHPrYReGG",
        "colab_type": "code",
        "outputId": "08fe0d84-5c8b-4d29-e788-b6934e4f2744",
        "colab": {
          "base_uri": "https://localhost:8080/",
          "height": 187
        }
      },
      "source": [
        "!pip install git+git://github.com/seemee/exactcover.git#egg=exactcover"
      ],
      "execution_count": 0,
      "outputs": [
        {
          "output_type": "stream",
          "text": [
            "Collecting exactcover\n",
            "  Cloning git://github.com/seemee/exactcover.git to /tmp/pip-install-nlf58lz7/exactcover\n",
            "  Running command git clone -q git://github.com/seemee/exactcover.git /tmp/pip-install-nlf58lz7/exactcover\n",
            "Building wheels for collected packages: exactcover\n",
            "  Building wheel for exactcover (setup.py) ... \u001b[?25l\u001b[?25hdone\n",
            "  Created wheel for exactcover: filename=ExactCover-0.2-cp36-cp36m-linux_x86_64.whl size=20791 sha256=e96b708c6fc7305e4591de1a80667900f59ac006dadf83bf4dd07e4e90e46b34\n",
            "  Stored in directory: /tmp/pip-ephem-wheel-cache-hqau1i9x/wheels/d9/1a/40/50a35a078ec5cbb53d17f48a4d94ce402a94697350fb348ce5\n",
            "Successfully built exactcover\n",
            "Installing collected packages: exactcover\n",
            "Successfully installed exactcover-0.2\n"
          ],
          "name": "stdout"
        }
      ]
    },
    {
      "cell_type": "markdown",
      "metadata": {
        "id": "BP0QoPULwZ9r",
        "colab_type": "text"
      },
      "source": [
        "Pentomino Puzzle example:<br/>\n",
        "See: [Exact Cover I](https://garethrees.org/2015/11/09/exact-cover/)"
      ]
    },
    {
      "cell_type": "code",
      "metadata": {
        "id": "yXal3nabR7mb",
        "colab_type": "code",
        "outputId": "a2a9da11-2d6d-489d-c06b-f7ff9dd4a0e6",
        "colab": {
          "base_uri": "https://localhost:8080/",
          "height": 425
        }
      },
      "source": [
        "import exactcover\n",
        "import pprint\n",
        "\n",
        "# The twelve pentominos, along with their names.\n",
        "pentominos = {\n",
        "    'f': [(1, 0), (2, 0), (0, 1), (1, 1), (1, 2)],\n",
        "    'i': [(0, 0), (0, 1), (0, 2), (0, 3), (0, 4)],\n",
        "    'l': [(0, 0), (0, 1), (0, 2), (0, 3), (1, 3)],\n",
        "    'n': [(1, 0), (1, 1), (0, 2), (1, 2), (0, 3)],\n",
        "    'p': [(0, 0), (1, 0), (0, 1), (1, 1), (0, 2)],\n",
        "    't': [(0, 0), (1, 0), (2, 0), (1, 1), (1, 2)],\n",
        "    'u': [(0, 0), (2, 0), (0, 1), (1, 1), (2, 1)],\n",
        "    'v': [(0, 0), (0, 1), (0, 2), (1, 2), (2, 2)],\n",
        "    'w': [(0, 0), (0, 1), (1, 1), (1, 2), (2, 2)],\n",
        "    'x': [(1, 0), (0, 1), (1, 1), (2, 1), (1, 2)],\n",
        "    'y': [(1, 0), (0, 1), (1, 1), (1, 2), (1, 3)],\n",
        "    'z': [(0, 0), (1, 0), (1, 1), (1, 2), (2, 2)],\n",
        "}\n",
        "\n",
        "def rotations(shape):\n",
        "    \"\"\"List the rotations and reflections of a pentomino.\"\"\"\n",
        "    # The 8 orientations are combinations of 3 primitive operations, x-flip,\n",
        "    # y-flip, and transpose.\n",
        "    def xflip(shape):\n",
        "        return [(4 - x, y) for x, y in shape]\n",
        "    def yflip(shape):\n",
        "        return [(x, 4 - y) for x, y in shape]\n",
        "    def transpose(shape):\n",
        "        return [(y, x) for x, y in shape]\n",
        "    def align(shape):\n",
        "        mx = min(x for x, y in shape)\n",
        "        my = min(y for x, y in shape)\n",
        "        return sorted((x - mx, y - my) for x, y in shape)\n",
        "\n",
        "    # Helper to add unique shapes to a list\n",
        "    out = []\n",
        "    def add(shape):\n",
        "        rotation = align(shape)\n",
        "        if rotation not in out:\n",
        "            out.append(rotation)\n",
        "\n",
        "    add(shape)\n",
        "    add(transpose(xflip(shape)))\n",
        "    add(xflip(yflip(shape)))\n",
        "    add(transpose(yflip(shape)))\n",
        "    add(xflip(shape))\n",
        "    add(yflip(shape))\n",
        "    add(transpose(shape))\n",
        "    add(transpose(xflip(yflip(shape))))\n",
        "    return out\n",
        "\n",
        "\n",
        "def positions(shape, width, height, world):\n",
        "    \"\"\"List the positions a pentomino can be in.\n",
        "    'world' is a set containing all of the legal squares on the board.\n",
        "    'width' and 'height' are the maximum extents of world.\n",
        "    \"\"\"\n",
        "    for y in range(height):\n",
        "        for x in range(width):\n",
        "            new_shape = [(x + xx, y + yy) for xx, yy in shape]\n",
        "            if set(new_shape).issubset(world):\n",
        "                yield new_shape\n",
        "\n",
        "\n",
        "def board():\n",
        "    \"\"\"List the legal squares on the board.\n",
        "    The board is a standard 8x8 chess board with the center 4 squares removed.\n",
        "    \"\"\"\n",
        "    b = set((x, y) for x in range(8) for y in range(8)\n",
        "            if not (3 <= x < 5 and 3 <= y < 5))\n",
        "    return b\n",
        "\n",
        "\n",
        "def matrix():\n",
        "    \"\"\"Compute the set of covers representing the problem.\"\"\"\n",
        "    b = board()\n",
        "\n",
        "    covers = []\n",
        "    for name, shape in pentominos.items():\n",
        "        for rotation in rotations(shape):\n",
        "            for position in positions(rotation, 8, 8, b):\n",
        "                covers.append([name] + sorted(position))\n",
        "            # Choose l as anchor to obtain unique solutions\n",
        "            if name == 'l':\n",
        "                break\n",
        "    return covers\n",
        "\n",
        "\n",
        "def solution_str(solution):\n",
        "    \"\"\"Turn a covering into a string picture representation.\"\"\"\n",
        "    grid = [[' ' for i in range(8)] for j in range(8)]\n",
        "\n",
        "    # Mark unoccupied squares.\n",
        "    for x, y in board():\n",
        "        grid[y][x] = '.'\n",
        "\n",
        "    # Mark each pentomino by its name.\n",
        "    for row in solution:\n",
        "        c = row[0]\n",
        "        for x, y in row[1:]:\n",
        "            grid[y][x] = c\n",
        "\n",
        "    return \"\\n\".join(''.join(row) for row in grid)\n",
        "\n",
        "\n",
        "def main():\n",
        "    m = matrix()\n",
        "\n",
        "    print(\"Example covering:\")\n",
        "    # Take the first result from the iterator.\n",
        "    solution = next(exactcover.Coverings(m))\n",
        "    pprint.pprint(solution)\n",
        "    print()\n",
        "    print(solution_str(solution))\n",
        "    print()\n",
        "\n",
        "    # Count the number of results returned by the iterator.\n",
        "    print('There are',len(list(exactcover.Coverings(m))),'unique tilings.')\n",
        "\n",
        "if __name__ == '__main__':\n",
        "    main()"
      ],
      "execution_count": 3,
      "outputs": [
        {
          "output_type": "stream",
          "text": [
            "Example covering:\n",
            "(['l', (0, 0), (0, 1), (0, 2), (0, 3), (1, 3)],\n",
            " ['x', (3, 1), (4, 0), (4, 1), (4, 2), (5, 1)],\n",
            " ['p', (1, 0), (1, 1), (2, 0), (2, 1), (3, 0)],\n",
            " ['t', (1, 2), (2, 2), (2, 3), (2, 4), (3, 2)],\n",
            " ['v', (5, 0), (6, 0), (7, 0), (7, 1), (7, 2)],\n",
            " ['f', (5, 2), (6, 1), (6, 2), (6, 3), (7, 3)],\n",
            " ['z', (5, 3), (5, 4), (6, 4), (7, 4), (7, 5)],\n",
            " ['u', (0, 4), (0, 5), (0, 6), (1, 4), (1, 6)],\n",
            " ['i', (0, 7), (1, 7), (2, 7), (3, 7), (4, 7)],\n",
            " ['y', (1, 5), (2, 5), (2, 6), (3, 5), (4, 5)],\n",
            " ['w', (5, 5), (6, 5), (6, 6), (7, 6), (7, 7)],\n",
            " ['n', (3, 6), (4, 6), (5, 6), (5, 7), (6, 7)])\n",
            "\n",
            "lpppxvvv\n",
            "lppxxxfv\n",
            "ltttxffv\n",
            "llt  zff\n",
            "uut  zzz\n",
            "uyyyywwz\n",
            "uuynnnww\n",
            "iiiiinnw\n",
            "\n",
            "There are 65 unique tilings.\n"
          ],
          "name": "stdout"
        }
      ]
    },
    {
      "cell_type": "code",
      "metadata": {
        "id": "CAe2XEkCTLv9",
        "colab_type": "code",
        "outputId": "c6066d78-8172-42cf-e63f-0c99d6143d6f",
        "colab": {
          "base_uri": "https://localhost:8080/",
          "height": 34
        }
      },
      "source": [
        "m=matrix()\n",
        "%timeit for _ in exactcover.Coverings(m): pass"
      ],
      "execution_count": 4,
      "outputs": [
        {
          "output_type": "stream",
          "text": [
            "1 loop, best of 3: 366 ms per loop\n"
          ],
          "name": "stdout"
        }
      ]
    },
    {
      "cell_type": "markdown",
      "metadata": {
        "id": "HcLtq-5JuQsr",
        "colab_type": "text"
      },
      "source": [
        "8 Queens [Puzzle](https://en.wikipedia.org/wiki/Eight_queens_puzzle)"
      ]
    },
    {
      "cell_type": "code",
      "metadata": {
        "id": "Y1uJdLA5SJzy",
        "colab_type": "code",
        "outputId": "d1a0b4c0-e37d-4f2b-b853-a1c732e97dc4",
        "colab": {
          "base_uri": "https://localhost:8080/",
          "height": 249
        }
      },
      "source": [
        "import exactcover\n",
        "\n",
        "def print_solution(n, solution):\n",
        "    a = [\n",
        "        [ \".\" for col in range(n) ]\n",
        "        for row in range(n)\n",
        "    ]\n",
        "    for entry in solution:\n",
        "        row = int(entry[0][1:])\n",
        "        col = int(entry[1][1:])\n",
        "        a[row][col] = \"*\"\n",
        "\n",
        "    for row in a:\n",
        "        print(\"\".join(row))\n",
        "\n",
        "n = 8\n",
        "matrix = []\n",
        "for row in range(n):\n",
        "    for col in range(n):\n",
        "        matrix.append((\n",
        "            \"r%d\" % row,\n",
        "            \"c%d\" % col,\n",
        "            \"d%d\" % (row + col),\n",
        "            \"a%d\" % (row + n-1 - col)\n",
        "        ))\n",
        "\n",
        "# The diagonal and antidiagonal constraints are secondary,\n",
        "# since not every diagonal will have a queen on it.\n",
        "secondary = set(( \"d%d\" % i for i in range(2*n-1) ))\n",
        "secondary.update(set(( \"a%d\" % i for i in range(2*n-1) )))\n",
        "count=0\n",
        "for solution in exactcover.Coverings(matrix, secondary):\n",
        "    count+=1\n",
        "    print(str(count)+':')\n",
        "    print_solution(n, solution)\n",
        "print('Total solutions',count)\n"
      ],
      "execution_count": 14,
      "outputs": [
        {
          "output_type": "stream",
          "text": [
            "{'a10', 'd13', 'd8', 'd10', 'd12', 'a4', 'a0', 'd7', 'a6', 'a12', 'a8', 'd4', 'a7', 'a3', 'a11', 'd9', 'a1', 'd0', 'd1', 'a13', 'd2', 'a9', 'a2', 'a14', 'd3', 'd14', 'a5', 'd5', 'd11', 'd6'}\n"
          ],
          "name": "stdout"
        },
        {
          "output_type": "error",
          "ename": "NameError",
          "evalue": "ignored",
          "traceback": [
            "\u001b[0;31m---------------------------------------------------------------------------\u001b[0m",
            "\u001b[0;31mNameError\u001b[0m                                 Traceback (most recent call last)",
            "\u001b[0;32m<ipython-input-14-bbf9518eb9e7>\u001b[0m in \u001b[0;36m<module>\u001b[0;34m()\u001b[0m\n\u001b[1;32m     31\u001b[0m \u001b[0msecondary\u001b[0m\u001b[0;34m.\u001b[0m\u001b[0mupdate\u001b[0m\u001b[0;34m(\u001b[0m\u001b[0mset\u001b[0m\u001b[0;34m(\u001b[0m\u001b[0;34m(\u001b[0m \u001b[0;34m\"a%d\"\u001b[0m \u001b[0;34m%\u001b[0m \u001b[0mi\u001b[0m \u001b[0;32mfor\u001b[0m \u001b[0mi\u001b[0m \u001b[0;32min\u001b[0m \u001b[0mrange\u001b[0m\u001b[0;34m(\u001b[0m\u001b[0;36m2\u001b[0m\u001b[0;34m*\u001b[0m\u001b[0mn\u001b[0m\u001b[0;34m-\u001b[0m\u001b[0;36m1\u001b[0m\u001b[0;34m)\u001b[0m \u001b[0;34m)\u001b[0m\u001b[0;34m)\u001b[0m\u001b[0;34m)\u001b[0m\u001b[0;34m\u001b[0m\u001b[0;34m\u001b[0m\u001b[0m\n\u001b[1;32m     32\u001b[0m \u001b[0mprint\u001b[0m\u001b[0;34m(\u001b[0m\u001b[0msecondary\u001b[0m\u001b[0;34m)\u001b[0m\u001b[0;34m\u001b[0m\u001b[0;34m\u001b[0m\u001b[0m\n\u001b[0;32m---> 33\u001b[0;31m \u001b[0mstop\u001b[0m\u001b[0;34m\u001b[0m\u001b[0;34m\u001b[0m\u001b[0m\n\u001b[0m\u001b[1;32m     34\u001b[0m \u001b[0mcount\u001b[0m\u001b[0;34m=\u001b[0m\u001b[0;36m0\u001b[0m\u001b[0;34m\u001b[0m\u001b[0;34m\u001b[0m\u001b[0m\n\u001b[1;32m     35\u001b[0m \u001b[0;32mfor\u001b[0m \u001b[0msolution\u001b[0m \u001b[0;32min\u001b[0m \u001b[0mexactcover\u001b[0m\u001b[0;34m.\u001b[0m\u001b[0mCoverings\u001b[0m\u001b[0;34m(\u001b[0m\u001b[0mmatrix\u001b[0m\u001b[0;34m,\u001b[0m \u001b[0msecondary\u001b[0m\u001b[0;34m)\u001b[0m\u001b[0;34m:\u001b[0m\u001b[0;34m\u001b[0m\u001b[0;34m\u001b[0m\u001b[0m\n",
            "\u001b[0;31mNameError\u001b[0m: name 'stop' is not defined"
          ]
        }
      ]
    },
    {
      "cell_type": "code",
      "metadata": {
        "id": "5CrohSHuUtQv",
        "colab_type": "code",
        "outputId": "39935187-85e6-4001-a8f7-33ad5331568d",
        "colab": {
          "base_uri": "https://localhost:8080/",
          "height": 34
        }
      },
      "source": [
        "%timeit for _ in exactcover.Coverings(matrix, secondary): pass"
      ],
      "execution_count": 0,
      "outputs": [
        {
          "output_type": "stream",
          "text": [
            "1000 loops, best of 3: 374 µs per loop\n"
          ],
          "name": "stdout"
        }
      ]
    },
    {
      "cell_type": "markdown",
      "metadata": {
        "id": "lpdTLzntto_5",
        "colab_type": "text"
      },
      "source": [
        "Example from [Wikipedia](https://en.wikipedia.org/wiki/Knuth%27s_Algorithm_X)"
      ]
    },
    {
      "cell_type": "code",
      "metadata": {
        "id": "TOf-4XYcrO02",
        "colab_type": "code",
        "colab": {
          "base_uri": "https://localhost:8080/",
          "height": 34
        },
        "outputId": "929995a7-4a0a-4291-e46a-28fe7624b1a9"
      },
      "source": [
        "m=[ [ 'A', 1, 4, 7 ],\n",
        "    [ 'B', 1, 4 ],\n",
        "    [ 'C', 4, 5, 7 ],\n",
        "    [ 'D', 3, 5, 6 ],\n",
        "    [ 'E', 2, 3, 6, 7 ],\n",
        "    [ 'F', 2, 7 ]]\n",
        "secondary=set(['A','B','C','D','E','F'])\n",
        "for solution in exactcover.Coverings(m,secondary):\n",
        "    print(solution)"
      ],
      "execution_count": 16,
      "outputs": [
        {
          "output_type": "stream",
          "text": [
            "(['B', 1, 4], ['D', 3, 5, 6], ['F', 2, 7])\n"
          ],
          "name": "stdout"
        }
      ]
    }
  ]
}
